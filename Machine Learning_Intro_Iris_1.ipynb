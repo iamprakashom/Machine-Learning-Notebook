{
 "cells": [
  {
   "cell_type": "code",
   "execution_count": null,
   "metadata": {
    "collapsed": true
   },
   "outputs": [],
   "source": [
    "# import load_iris function from datasets\n",
    "from sklearn.datasets import load_iris"
   ]
  },
  {
   "cell_type": "code",
   "execution_count": null,
   "metadata": {
    "collapsed": false
   },
   "outputs": [],
   "source": [
    "# save 'bunch' object containing iris datasets and its attributes\n",
    "iris = load_iris()\n",
    "type(iris)"
   ]
  },
  {
   "cell_type": "code",
   "execution_count": null,
   "metadata": {
    "collapsed": false
   },
   "outputs": [],
   "source": [
    "# print iris data as sepal length, sepal width, petal length, petal width\n",
    "# each row in output represent one flower\n",
    "# each row is also called sample, observation, instance  or example. e.g iris dataset has\n",
    "# 150 observation\n",
    "# each column is a feature also known as attribute, predictor, independent varialbe, input,\n",
    "# regression, covariate. E.g. iris datasets has four features\n",
    "print(iris.data)"
   ]
  },
  {
   "cell_type": "code",
   "execution_count": null,
   "metadata": {
    "collapsed": false
   },
   "outputs": [],
   "source": [
    "# print the name of four feature of iris datasets. It is also as a column header for the data\n",
    "print(iris.feature_names)"
   ]
  },
  {
   "cell_type": "code",
   "execution_count": null,
   "metadata": {
    "collapsed": false
   },
   "outputs": [],
   "source": [
    "# print integer( of target) representing the species of each observation\n",
    "# here 0 = setosa, 1= versicolor, 2 = virginica\n",
    "print(iris.target)"
   ]
  },
  {
   "cell_type": "code",
   "execution_count": null,
   "metadata": {
    "collapsed": false
   },
   "outputs": [],
   "source": [
    "# print the encoding scheme for species: 0 = setosa, 1 = versicolor, 2 = verginica\n",
    "print(iris.target_names)"
   ]
  },
  {
   "cell_type": "markdown",
   "metadata": {},
   "source": [
    "- Each Value we are predicting is the **response** (also known as : targt, outcome, label, dependent\n",
    "variable\n",
    "- **Classification** is supervised learning in which the response is categorical\n",
    "- **Regression** is supervised learning in which the response is ordered and continuous"
   ]
  },
  {
   "cell_type": "markdown",
   "metadata": {},
   "source": [
    "# Requirements for working with data in scikit-learn\n",
    "1. Features and response are **separate objects**\n",
    "2. Features and responses should be **numberic**\n",
    "3. Features and responses should be **NumPy arrays**\n",
    "4. Features and responses should have **specific shapes**\n"
   ]
  },
  {
   "cell_type": "code",
   "execution_count": null,
   "metadata": {
    "collapsed": false
   },
   "outputs": [],
   "source": [
    "# check the type of the features and response\n",
    "print (type(iris.data))\n",
    "print(type(iris.target))"
   ]
  },
  {
   "cell_type": "code",
   "execution_count": null,
   "metadata": {
    "collapsed": false
   },
   "outputs": [],
   "source": [
    "# check the shape of the features (first dimension = number of observation)\n",
    "# here shape of iris dataset is 150X4. why? bcoz it has 150 row and 4 column\n",
    "print(iris.data.shape)"
   ]
  },
  {
   "cell_type": "code",
   "execution_count": null,
   "metadata": {
    "collapsed": false
   },
   "outputs": [],
   "source": [
    "# check the shape of the response (single dimension matching the number of observations)\n",
    "# there should for one response for each observation\n",
    "print(iris.target.shape)"
   ]
  },
  {
   "cell_type": "markdown",
   "metadata": {},
   "source": [
    "- __iris.data__ and __iris.target__ needs scikit-learn's **four requrements** for features and response object "
   ]
  },
  {
   "cell_type": "code",
   "execution_count": null,
   "metadata": {
    "collapsed": true
   },
   "outputs": [],
   "source": [
    "# store feature matrix in 'X'\n",
    "X = iris.data\n",
    "\n",
    "# sotre response vector in 'Y'\n",
    "y = iris.target"
   ]
  },
  {
   "cell_type": "markdown",
   "metadata": {},
   "source": [
    "- here **X** is in uppercase, bcoz it represents a *matrix* and **y** is in lowercase bcoz it represents a *vector*"
   ]
  },
  {
   "cell_type": "markdown",
   "metadata": {
    "collapsed": true
   },
   "source": [
    "- Here we have 150 observations\n",
    "- 4 **features** (sepal lenght, sepal width, petal lenght, petal width)\n",
    "- **Response** variable is the iris species. Here 5th column is response varaible.\n",
    "- **Classification** problem since response is categorical\n",
    "\n",
    "## K-nearest neighbors classification\n",
    "1. Pick a value of K. How to choose value of K?\n",
    "2. Search for the K observations in the training data that are \"nearest\" to the measurements of the unknown iris.\n",
    "3. Use the most popular response value from the K nearest neighbours as the predicted response value for the unknown iris.\n"
   ]
  },
  {
   "cell_type": "markdown",
   "metadata": {},
   "source": [
    "### KNN classification map (K=1)\n",
    "\n",
    "Here, visualize your training data on a coordinate plane, with the x and y coordinates representing the feature values and the color representing the response class:\n",
    "\n",
    "![1NN classification map](http://5047-presscdn.pagely.netdna-cdn.com/wp-content/uploads/2015/04/04_knn_dataset-300x198.png)"
   ]
  },
  {
   "cell_type": "markdown",
   "metadata": {},
   "source": [
    "### KNN classification map (K=5)\n",
    "\n",
    "KNN can predict the response class for a future observation by calculating the \"distance\" to all training observations and assuming that the response class of nearby observations is likely to be similar. These predictions can be visualized using a classification map:\n",
    "\n",
    "![5NN classification map](http://5047-presscdn.pagely.netdna-cdn.com/wp-content/uploads/2015/04/04_1nn_map-300x198.png)"
   ]
  },
  {
   "cell_type": "markdown",
   "metadata": {},
   "source": [
    "## Loading the data"
   ]
  },
  {
   "cell_type": "code",
   "execution_count": null,
   "metadata": {
    "collapsed": true
   },
   "outputs": [],
   "source": [
    "# import load_iris function from datasets module\n",
    "from sklearn.datasets import load_iris\n",
    "\n",
    "#save 'bunch' object containing iris dataset and its attributes\n",
    "iris = load_iris()\n",
    "\n",
    "# store feature matrix in 'X'\n",
    "X = iris.data\n",
    "\n",
    "# store response vector in 'y'\n",
    "y = iris.target"
   ]
  },
  {
   "cell_type": "code",
   "execution_count": null,
   "metadata": {
    "collapsed": false,
    "scrolled": true
   },
   "outputs": [],
   "source": [
    "# print the shape of X and y\n",
    "\n",
    "print(X.shape)\n",
    "print(y.shape)"
   ]
  },
  {
   "cell_type": "markdown",
   "metadata": {},
   "source": [
    "## scikit-learn 4-step modeling pattern"
   ]
  },
  {
   "cell_type": "markdown",
   "metadata": {},
   "source": [
    "**Step 1:** Import the class you plan to use"
   ]
  },
  {
   "cell_type": "code",
   "execution_count": null,
   "metadata": {
    "collapsed": true
   },
   "outputs": [],
   "source": [
    "from sklearn.neighbors import KNeighborsClassifier"
   ]
  },
  {
   "cell_type": "markdown",
   "metadata": {},
   "source": [
    "**Step 2:** \"Instantiate\" the \"estimator\"\n",
    "\n",
    "- \"Estimator's\" role is to estimates unknown quantities. This process is called instantiation, Becoz we are creating instance on KNeighborsClassifier class.\n",
    "- \"Estimator\" is scikit-learn's term for model\n",
    "- \"Instantiate\" means \"make an instance of\""
   ]
  },
  {
   "cell_type": "code",
   "execution_count": null,
   "metadata": {
    "collapsed": false
   },
   "outputs": [],
   "source": [
    "knn = KNeighborsClassifier(n_neighbors=1)\n",
    "\n",
    "# here *knn* is the object/instance of KNeighborsClassifier class, which knows how to do K-Nearest Classification. \n",
    "# It is just waiting for to give it some data.\n"
   ]
  },
  {
   "cell_type": "markdown",
   "metadata": {},
   "source": [
    "- Name of the object does not matter\n",
    "- n_neighbors represents the value of K. It tells the knn object that, while running it should be looking 1 nearest\n",
    "neighbors\n",
    "- *n_neighbors* is called tuning paramenters.\n",
    "- Can specify tuning parameters (aka \"hyperparameters\") during this step\n",
    "- All parameters of *KNeighborsClassfier* which are not specified, are set to their defaults values.\n",
    "- See default value in next cell"
   ]
  },
  {
   "cell_type": "code",
   "execution_count": null,
   "metadata": {
    "collapsed": false
   },
   "outputs": [],
   "source": [
    "print(knn)"
   ]
  },
  {
   "cell_type": "markdown",
   "metadata": {},
   "source": [
    "**Step 3:** Fit the model with data (aka \"model training\")\n",
    "\n",
    "- Model is learning the relationship between X and y\n",
    "- Occurs in-place"
   ]
  },
  {
   "cell_type": "code",
   "execution_count": null,
   "metadata": {
    "collapsed": false
   },
   "outputs": [],
   "source": [
    "# fit method is used on knn object\n",
    "# this operation occures in-place. We don't have to assign it's result to another object\n",
    "knn.fit(X, y)"
   ]
  },
  {
   "cell_type": "markdown",
   "metadata": {},
   "source": [
    "**Step 4:** Predict the response for a new observation\n",
    "\n",
    "- *predict* method is taking measurement of unknown iris as python list, and asking the fit model to predict iris species\n",
    "based on what it has learned in the previous step.\n",
    "- *predict* expects a NumPy array and returns a NumPy arrary with the predicted respose value. It also accepts list bcoz, it is automatically converted to \n",
    "NumPy array of appropriate shape.\n",
    "- New observations are called \"out-of-sample\" data\n",
    "- Uses the information it learned during the model training process\n",
    "\n",
    "here predict method gives output array[2], which means that iris-verginica is the predicted species for the given unknown iris."
   ]
  },
  {
   "cell_type": "code",
   "execution_count": null,
   "metadata": {
    "collapsed": false
   },
   "outputs": [],
   "source": [
    "knn.predict([3, 5, 4, 2])"
   ]
  },
  {
   "cell_type": "markdown",
   "metadata": {},
   "source": [
    "- Returns a NumPy array\n",
    "- Can predict for multiple observations at once"
   ]
  },
  {
   "cell_type": "code",
   "execution_count": null,
   "metadata": {
    "collapsed": false
   },
   "outputs": [],
   "source": [
    "X_new = [[3, 5, 4, 2], [5, 4, 3, 2]]\n",
    "knn.predict(X_new)  # passing list of list containing two observation/measurement of unknown iris.\n",
    "                    # this list of list gets converted to NumPy array of 2X4 size, means two observation\n",
    "                    # of four features each.\n",
    "# predicted output for two unknown iris is 2 for first and 1 for second unknown iris."
   ]
  },
  {
   "cell_type": "markdown",
   "metadata": {},
   "source": [
    "## Using a different value for K\n",
    "\n",
    "- Changing the value of K is known as **Model-Tuning**."
   ]
  },
  {
   "cell_type": "code",
   "execution_count": null,
   "metadata": {
    "collapsed": false
   },
   "outputs": [],
   "source": [
    "# instantiate the model (using the value K=5)\n",
    "knn = KNeighborsClassifier(n_neighbors=5)\n",
    "\n",
    "# fit the model with data\n",
    "knn.fit(X, y)\n",
    "\n",
    "# predict the response for new observations\n",
    "knn.predict(X_new)"
   ]
  },
  {
   "cell_type": "markdown",
   "metadata": {},
   "source": [
    "## Using a different classification model"
   ]
  },
  {
   "cell_type": "code",
   "execution_count": null,
   "metadata": {
    "collapsed": false
   },
   "outputs": [],
   "source": [
    "from sklearn.linear_model import LogisticRegression\n",
    "\n",
    "# instantiate the model(using the default parameter)\n",
    "logreg = LogisticRegression()\n",
    "\n",
    "# fit the model with data\n",
    "logreg.fit(X, y)\n",
    "\n",
    "#predict the response for new observations\n",
    "logreg.predict(X_new)"
   ]
  },
  {
   "cell_type": "markdown",
   "metadata": {},
   "source": [
    "- Here you might be wondering, which model produce the correct prediction for these two unknown iris. The answer is , we don't know as these are out of sample observation meaning that we don't know the right response value.\n",
    "- our goal with *supervised learning* is to build model that genralized to new data."
   ]
  }
 ],
 "metadata": {
  "kernelspec": {
   "display_name": "Python 3",
   "language": "python",
   "name": "python3"
  },
  "language_info": {
   "codemirror_mode": {
    "name": "ipython",
    "version": 3
   },
   "file_extension": ".py",
   "mimetype": "text/x-python",
   "name": "python",
   "nbconvert_exporter": "python",
   "pygments_lexer": "ipython3",
   "version": "3.4.3"
  }
 },
 "nbformat": 4,
 "nbformat_minor": 1
}
